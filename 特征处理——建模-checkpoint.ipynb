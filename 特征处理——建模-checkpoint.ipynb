{
 "cells": [
  {
   "cell_type": "code",
   "execution_count": 1,
   "metadata": {
    "collapsed": true
   },
   "outputs": [],
   "source": [
    "import pandas as pd\n",
    "import numpy as np\n",
    "import matplotlib.pyplot as plt\n",
    "import seaborn as sns  "
   ]
  },
  {
   "cell_type": "code",
   "execution_count": 2,
   "metadata": {
    "collapsed": true
   },
   "outputs": [],
   "source": [
    "data_raw=pd.read_csv('userlostprob.txt',sep='\\t',engine='python',parse_dates=['d','arrival'],infer_datetime_format=True)\n"
   ]
  },
  {
   "cell_type": "code",
   "execution_count": 3,
   "metadata": {
    "collapsed": true
   },
   "outputs": [],
   "source": [
    "#衍生变量:预定提前天数\n",
    "data_raw['Reservation']=(data_raw['arrival']-data_raw['d']).dt.days\n"
   ]
  },
  {
   "cell_type": "code",
   "execution_count": 4,
   "metadata": {
    "collapsed": true
   },
   "outputs": [],
   "source": [
    "#衍生变量:预定、出行时间是否为周末\n",
    "from datetime import datetime\n",
    "\n",
    "data_raw['arrival_week']=list(map(lambda x: 0 if datetime.weekday(x)>=5 else 1,data_raw['arrival']))\n",
    "data_raw['d_week']=list(map(lambda x: 0 if datetime.weekday(x)>=5 else 1,data_raw['arrival']))\n",
    "\n",
    "\n",
    "\n"
   ]
  },
  {
   "cell_type": "code",
   "execution_count": 5,
   "metadata": {},
   "outputs": [
    {
     "name": "stderr",
     "output_type": "stream",
     "text": [
      "E:\\python\\lib\\site-packages\\ipykernel_launcher.py:2: SettingWithCopyWarning: \n",
      "A value is trying to be set on a copy of a slice from a DataFrame\n",
      "\n",
      "See the caveats in the documentation: http://pandas.pydata.org/pandas-docs/stable/indexing.html#indexing-view-versus-copy\n",
      "  \n",
      "E:\\python\\lib\\site-packages\\ipykernel_launcher.py:3: SettingWithCopyWarning: \n",
      "A value is trying to be set on a copy of a slice from a DataFrame\n",
      "\n",
      "See the caveats in the documentation: http://pandas.pydata.org/pandas-docs/stable/indexing.html#indexing-view-versus-copy\n",
      "  This is separate from the ipykernel package so we can avoid doing imports until\n",
      "E:\\python\\lib\\site-packages\\ipykernel_launcher.py:4: SettingWithCopyWarning: \n",
      "A value is trying to be set on a copy of a slice from a DataFrame\n",
      "\n",
      "See the caveats in the documentation: http://pandas.pydata.org/pandas-docs/stable/indexing.html#indexing-view-versus-copy\n",
      "  after removing the cwd from sys.path.\n",
      "E:\\python\\lib\\site-packages\\ipykernel_launcher.py:5: SettingWithCopyWarning: \n",
      "A value is trying to be set on a copy of a slice from a DataFrame\n",
      "\n",
      "See the caveats in the documentation: http://pandas.pydata.org/pandas-docs/stable/indexing.html#indexing-view-versus-copy\n",
      "  \"\"\"\n",
      "E:\\python\\lib\\site-packages\\ipykernel_launcher.py:6: SettingWithCopyWarning: \n",
      "A value is trying to be set on a copy of a slice from a DataFrame\n",
      "\n",
      "See the caveats in the documentation: http://pandas.pydata.org/pandas-docs/stable/indexing.html#indexing-view-versus-copy\n",
      "  \n"
     ]
    }
   ],
   "source": [
    "#异常值处理：负数处理 delta_price1/delta_price2 /lowestprice/customer_value_profit/ctrip_profits五个字段负数替换为0;\n",
    "data_raw.delta_price1[data_raw.delta_price1<0]=data_raw.delta_price1.median()\n",
    "data_raw.delta_price2[data_raw.delta_price2<0]=data_raw.delta_price2.median()\n",
    "data_raw.lowestprice[data_raw.lowestprice<0]=data_raw.lowestprice.median()\n",
    "data_raw.ctrip_profits[data_raw.ctrip_profits<0]=0\n",
    "data_raw.customer_value_profit[data_raw.customer_value_profit<0]=0"
   ]
  },
  {
   "cell_type": "code",
   "execution_count": 6,
   "metadata": {},
   "outputs": [
    {
     "name": "stderr",
     "output_type": "stream",
     "text": [
      "E:\\python\\lib\\site-packages\\ipykernel_launcher.py:6: SettingWithCopyWarning: \n",
      "A value is trying to be set on a copy of a slice from a DataFrame\n",
      "\n",
      "See the caveats in the documentation: http://pandas.pydata.org/pandas-docs/stable/indexing.html#indexing-view-versus-copy\n",
      "  \n"
     ]
    }
   ],
   "source": [
    "#针对historyvisit_7ordernum缺失的列，新增是否缺失的字段\n",
    "hig_na=['historyvisit_7ordernum']#,'historyvisit_visit_detailpagenum','firstorder_bu','decisionhabit_user','historyvisit_totalordernum','historyvisit_avghotelnum','delta_price1','delta_price2','customer_value_profit','ctrip_profits','ordercanceledprecent','ordercanncelednum','ordernum_oneyear','lasthtlordergap','avgprice','cr','consuming_capacity','price_sensitive','starprefer','businessrate_pre','deltaprice_pre2_t1','lastpvgap','visitnum_oneyear','commentnums_pre','businessrate_pre2'\n",
    "for i in hig_na:\n",
    "    name=i+'_null'\n",
    "    data_raw[name]=1\n",
    "    data_raw[name][data_raw[i].isnull()]=0\n",
    "    \n",
    "    #data_raw[\"{}_null\".format(hig_na[i])]=data_raw[hig_na[i]].isnull"
   ]
  },
  {
   "cell_type": "code",
   "execution_count": 7,
   "metadata": {},
   "outputs": [
    {
     "name": "stdout",
     "output_type": "stream",
     "text": [
      "<class 'pandas.core.frame.DataFrame'>\n",
      "RangeIndex: 689945 entries, 0 to 689944\n",
      "Data columns (total 55 columns):\n",
      "label                               689945 non-null int64\n",
      "sampleid                            689945 non-null int64\n",
      "d                                   689945 non-null datetime64[ns]\n",
      "arrival                             689945 non-null datetime64[ns]\n",
      "iforderpv_24h                       689945 non-null int64\n",
      "decisionhabit_user                  385450 non-null float64\n",
      "historyvisit_7ordernum              82915 non-null float64\n",
      "historyvisit_totalordernum          386525 non-null float64\n",
      "hotelcr                             689148 non-null float64\n",
      "ordercanceledprecent                447831 non-null float64\n",
      "landhalfhours                       661312 non-null float64\n",
      "ordercanncelednum                   447831 non-null float64\n",
      "commentnums                         622029 non-null float64\n",
      "starprefer                          464892 non-null float64\n",
      "novoters                            672918 non-null float64\n",
      "consuming_capacity                  463837 non-null float64\n",
      "historyvisit_avghotelnum            387876 non-null float64\n",
      "cancelrate                          678227 non-null float64\n",
      "historyvisit_visit_detailpagenum    307234 non-null float64\n",
      "delta_price1                        437146 non-null float64\n",
      "price_sensitive                     463837 non-null float64\n",
      "hoteluv                             689148 non-null float64\n",
      "businessrate_pre                    483896 non-null float64\n",
      "ordernum_oneyear                    447831 non-null float64\n",
      "cr_pre                              660548 non-null float64\n",
      "avgprice                            457261 non-null float64\n",
      "lowestprice                         687931 non-null float64\n",
      "firstorder_bu                       376993 non-null float64\n",
      "customereval_pre2                   661312 non-null float64\n",
      "delta_price2                        437750 non-null float64\n",
      "commentnums_pre                     598368 non-null float64\n",
      "customer_value_profit               439123 non-null float64\n",
      "commentnums_pre2                    648457 non-null float64\n",
      "cancelrate_pre                      653015 non-null float64\n",
      "novoters_pre2                       657616 non-null float64\n",
      "novoters_pre                        648956 non-null float64\n",
      "ctrip_profits                       445187 non-null float64\n",
      "deltaprice_pre2_t1                  543180 non-null float64\n",
      "lowestprice_pre                     659689 non-null float64\n",
      "uv_pre                              660548 non-null float64\n",
      "uv_pre2                             661189 non-null float64\n",
      "lowestprice_pre2                    660664 non-null float64\n",
      "lasthtlordergap                     447831 non-null float64\n",
      "businessrate_pre2                   602960 non-null float64\n",
      "cityuvs                             682274 non-null float64\n",
      "cityorders                          651263 non-null float64\n",
      "lastpvgap                           592818 non-null float64\n",
      "cr                                  457896 non-null float64\n",
      "sid                                 689945 non-null int64\n",
      "visitnum_oneyear                    592910 non-null float64\n",
      "h                                   689945 non-null int64\n",
      "Reservation                         689945 non-null int64\n",
      "arrival_week                        689945 non-null int64\n",
      "d_week                              689945 non-null int64\n",
      "historyvisit_7ordernum_null         689945 non-null int64\n",
      "dtypes: datetime64[ns](2), float64(44), int64(9)\n",
      "memory usage: 289.5 MB\n"
     ]
    },
    {
     "data": {
      "text/plain": [
       "1"
      ]
     },
     "execution_count": 7,
     "metadata": {},
     "output_type": "execute_result"
    }
   ],
   "source": [
    "data_raw.info()\n",
    "len(hig_na)"
   ]
  },
  {
   "cell_type": "code",
   "execution_count": 8,
   "metadata": {
    "collapsed": true
   },
   "outputs": [],
   "source": [
    "#缺失值填充,中位数填充\n",
    "data_raw['businessrate_pre2']=data_raw['businessrate_pre2'].fillna(data_raw['businessrate_pre2'].mean())\n",
    "data_raw['cancelrate_pre']=data_raw['cancelrate_pre'].fillna(data_raw['cancelrate_pre'].mean())\n",
    "data_raw['businessrate_pre']=data_raw['businessrate_pre'].fillna(data_raw['businessrate_pre'].mean())\n",
    "\n",
    "#右偏分布的字段，使用0值填充：\n",
    "for i in range(0,51):\n",
    "    if data_raw.iloc[:,i].isnull().sum()!=0:\n",
    "        data_raw[data_raw.columns[i]]=data_raw[data_raw.columns[i]].fillna(0)"
   ]
  },
  {
   "cell_type": "code",
   "execution_count": 9,
   "metadata": {},
   "outputs": [
    {
     "data": {
      "text/plain": [
       "'sampleid'"
      ]
     },
     "execution_count": 9,
     "metadata": {},
     "output_type": "execute_result"
    }
   ],
   "source": [
    "data_raw.columns[1]"
   ]
  },
  {
   "cell_type": "code",
   "execution_count": 10,
   "metadata": {},
   "outputs": [
    {
     "name": "stdout",
     "output_type": "stream",
     "text": [
      "<class 'pandas.core.frame.DataFrame'>\n",
      "RangeIndex: 689945 entries, 0 to 689944\n",
      "Data columns (total 55 columns):\n",
      "label                               689945 non-null int64\n",
      "sampleid                            689945 non-null int64\n",
      "d                                   689945 non-null datetime64[ns]\n",
      "arrival                             689945 non-null datetime64[ns]\n",
      "iforderpv_24h                       689945 non-null int64\n",
      "decisionhabit_user                  689945 non-null float64\n",
      "historyvisit_7ordernum              689945 non-null float64\n",
      "historyvisit_totalordernum          689945 non-null float64\n",
      "hotelcr                             689945 non-null float64\n",
      "ordercanceledprecent                689945 non-null float64\n",
      "landhalfhours                       689945 non-null float64\n",
      "ordercanncelednum                   689945 non-null float64\n",
      "commentnums                         689945 non-null float64\n",
      "starprefer                          689945 non-null float64\n",
      "novoters                            689945 non-null float64\n",
      "consuming_capacity                  689945 non-null float64\n",
      "historyvisit_avghotelnum            689945 non-null float64\n",
      "cancelrate                          689945 non-null float64\n",
      "historyvisit_visit_detailpagenum    689945 non-null float64\n",
      "delta_price1                        689945 non-null float64\n",
      "price_sensitive                     689945 non-null float64\n",
      "hoteluv                             689945 non-null float64\n",
      "businessrate_pre                    689945 non-null float64\n",
      "ordernum_oneyear                    689945 non-null float64\n",
      "cr_pre                              689945 non-null float64\n",
      "avgprice                            689945 non-null float64\n",
      "lowestprice                         689945 non-null float64\n",
      "firstorder_bu                       689945 non-null float64\n",
      "customereval_pre2                   689945 non-null float64\n",
      "delta_price2                        689945 non-null float64\n",
      "commentnums_pre                     689945 non-null float64\n",
      "customer_value_profit               689945 non-null float64\n",
      "commentnums_pre2                    689945 non-null float64\n",
      "cancelrate_pre                      689945 non-null float64\n",
      "novoters_pre2                       689945 non-null float64\n",
      "novoters_pre                        689945 non-null float64\n",
      "ctrip_profits                       689945 non-null float64\n",
      "deltaprice_pre2_t1                  689945 non-null float64\n",
      "lowestprice_pre                     689945 non-null float64\n",
      "uv_pre                              689945 non-null float64\n",
      "uv_pre2                             689945 non-null float64\n",
      "lowestprice_pre2                    689945 non-null float64\n",
      "lasthtlordergap                     689945 non-null float64\n",
      "businessrate_pre2                   689945 non-null float64\n",
      "cityuvs                             689945 non-null float64\n",
      "cityorders                          689945 non-null float64\n",
      "lastpvgap                           689945 non-null float64\n",
      "cr                                  689945 non-null float64\n",
      "sid                                 689945 non-null int64\n",
      "visitnum_oneyear                    689945 non-null float64\n",
      "h                                   689945 non-null int64\n",
      "Reservation                         689945 non-null int64\n",
      "arrival_week                        689945 non-null int64\n",
      "d_week                              689945 non-null int64\n",
      "historyvisit_7ordernum_null         689945 non-null int64\n",
      "dtypes: datetime64[ns](2), float64(44), int64(9)\n",
      "memory usage: 289.5 MB\n"
     ]
    }
   ],
   "source": [
    "data_raw.info()"
   ]
  },
  {
   "cell_type": "code",
   "execution_count": 117,
   "metadata": {
    "collapsed": true
   },
   "outputs": [],
   "source": [
    "#保存处理后的数据\n",
    "data_raw.to_csv('data_raw_0值填充.csv')"
   ]
  },
  {
   "cell_type": "code",
   "execution_count": 11,
   "metadata": {
    "collapsed": true
   },
   "outputs": [],
   "source": [
    "#过滤无用的维度\n",
    "filter_feature = ['sampleid','d','arrival','label'] # 过滤无用的维度\n",
    "features = []\n",
    "for x in data_raw.columns: # 取特征\n",
    "    if x not in filter_feature:\n",
    "        features.append(x)"
   ]
  },
  {
   "cell_type": "code",
   "execution_count": 12,
   "metadata": {
    "collapsed": true
   },
   "outputs": [],
   "source": [
    "#建立X，Y变量\n",
    "data_x=data_raw[features]\n",
    "data_y=data_raw.label"
   ]
  },
  {
   "cell_type": "code",
   "execution_count": 13,
   "metadata": {},
   "outputs": [
    {
     "name": "stdout",
     "output_type": "stream",
     "text": [
      "<class 'pandas.core.frame.DataFrame'>\n",
      "RangeIndex: 689945 entries, 0 to 689944\n",
      "Data columns (total 51 columns):\n",
      "iforderpv_24h                       689945 non-null int64\n",
      "decisionhabit_user                  689945 non-null float64\n",
      "historyvisit_7ordernum              689945 non-null float64\n",
      "historyvisit_totalordernum          689945 non-null float64\n",
      "hotelcr                             689945 non-null float64\n",
      "ordercanceledprecent                689945 non-null float64\n",
      "landhalfhours                       689945 non-null float64\n",
      "ordercanncelednum                   689945 non-null float64\n",
      "commentnums                         689945 non-null float64\n",
      "starprefer                          689945 non-null float64\n",
      "novoters                            689945 non-null float64\n",
      "consuming_capacity                  689945 non-null float64\n",
      "historyvisit_avghotelnum            689945 non-null float64\n",
      "cancelrate                          689945 non-null float64\n",
      "historyvisit_visit_detailpagenum    689945 non-null float64\n",
      "delta_price1                        689945 non-null float64\n",
      "price_sensitive                     689945 non-null float64\n",
      "hoteluv                             689945 non-null float64\n",
      "businessrate_pre                    689945 non-null float64\n",
      "ordernum_oneyear                    689945 non-null float64\n",
      "cr_pre                              689945 non-null float64\n",
      "avgprice                            689945 non-null float64\n",
      "lowestprice                         689945 non-null float64\n",
      "firstorder_bu                       689945 non-null float64\n",
      "customereval_pre2                   689945 non-null float64\n",
      "delta_price2                        689945 non-null float64\n",
      "commentnums_pre                     689945 non-null float64\n",
      "customer_value_profit               689945 non-null float64\n",
      "commentnums_pre2                    689945 non-null float64\n",
      "cancelrate_pre                      689945 non-null float64\n",
      "novoters_pre2                       689945 non-null float64\n",
      "novoters_pre                        689945 non-null float64\n",
      "ctrip_profits                       689945 non-null float64\n",
      "deltaprice_pre2_t1                  689945 non-null float64\n",
      "lowestprice_pre                     689945 non-null float64\n",
      "uv_pre                              689945 non-null float64\n",
      "uv_pre2                             689945 non-null float64\n",
      "lowestprice_pre2                    689945 non-null float64\n",
      "lasthtlordergap                     689945 non-null float64\n",
      "businessrate_pre2                   689945 non-null float64\n",
      "cityuvs                             689945 non-null float64\n",
      "cityorders                          689945 non-null float64\n",
      "lastpvgap                           689945 non-null float64\n",
      "cr                                  689945 non-null float64\n",
      "sid                                 689945 non-null int64\n",
      "visitnum_oneyear                    689945 non-null float64\n",
      "h                                   689945 non-null int64\n",
      "Reservation                         689945 non-null int64\n",
      "arrival_week                        689945 non-null int64\n",
      "d_week                              689945 non-null int64\n",
      "historyvisit_7ordernum_null         689945 non-null int64\n",
      "dtypes: float64(44), int64(7)\n",
      "memory usage: 268.5 MB\n"
     ]
    }
   ],
   "source": [
    "data_x.info()"
   ]
  },
  {
   "cell_type": "code",
   "execution_count": 14,
   "metadata": {},
   "outputs": [
    {
     "data": {
      "text/plain": [
       "array([[0., 0., 0., ..., 1., 1., 0.],\n",
       "       [0., 0., 0., ..., 1., 1., 0.],\n",
       "       [0., 0., 0., ..., 1., 1., 0.],\n",
       "       ...,\n",
       "       [0., 0., 0., ..., 1., 1., 0.],\n",
       "       [0., 0., 0., ..., 1., 1., 0.],\n",
       "       [0., 0., 0., ..., 0., 0., 0.]])"
      ]
     },
     "execution_count": 14,
     "metadata": {},
     "output_type": "execute_result"
    }
   ],
   "source": [
    "#盖帽法处理极值\n",
    "data1 =np.array(data_x)\n",
    "for i in range(51):\n",
    "    if type(data1[:,i][1])==float:\n",
    "        a=data1[:,i]                #索引data1里的第i列并放入a\n",
    "        b=np.percentile(a,1)        #计算a里的1%分位数\n",
    "        c=np.percentile(a,99)      #计算a里的99%分位数\n",
    "        for j in range(0,len(data1[:,0])): #j从0到一列数据的总个数循环\n",
    "            if a[j]<b:          #如果data1里的第i列里的第j个数小于1%分位数\n",
    "                a[j]=b          #就把data1里的第i列里的第j个数换成1%分位数\n",
    "            elif a[j]>c:\n",
    "                a[j]=c\n",
    "            else:\n",
    "                a[j]\n",
    "data1\n",
    "            "
   ]
  },
  {
   "cell_type": "code",
   "execution_count": 15,
   "metadata": {},
   "outputs": [
    {
     "name": "stdout",
     "output_type": "stream",
     "text": [
      "<class 'pandas.core.frame.DataFrame'>\n",
      "RangeIndex: 689945 entries, 0 to 689944\n",
      "Data columns (total 51 columns):\n",
      "iforderpv_24h                       689945 non-null float64\n",
      "decisionhabit_user                  689945 non-null float64\n",
      "historyvisit_7ordernum              689945 non-null float64\n",
      "historyvisit_totalordernum          689945 non-null float64\n",
      "hotelcr                             689945 non-null float64\n",
      "ordercanceledprecent                689945 non-null float64\n",
      "landhalfhours                       689945 non-null float64\n",
      "ordercanncelednum                   689945 non-null float64\n",
      "commentnums                         689945 non-null float64\n",
      "starprefer                          689945 non-null float64\n",
      "novoters                            689945 non-null float64\n",
      "consuming_capacity                  689945 non-null float64\n",
      "historyvisit_avghotelnum            689945 non-null float64\n",
      "cancelrate                          689945 non-null float64\n",
      "historyvisit_visit_detailpagenum    689945 non-null float64\n",
      "delta_price1                        689945 non-null float64\n",
      "price_sensitive                     689945 non-null float64\n",
      "hoteluv                             689945 non-null float64\n",
      "businessrate_pre                    689945 non-null float64\n",
      "ordernum_oneyear                    689945 non-null float64\n",
      "cr_pre                              689945 non-null float64\n",
      "avgprice                            689945 non-null float64\n",
      "lowestprice                         689945 non-null float64\n",
      "firstorder_bu                       689945 non-null float64\n",
      "customereval_pre2                   689945 non-null float64\n",
      "delta_price2                        689945 non-null float64\n",
      "commentnums_pre                     689945 non-null float64\n",
      "customer_value_profit               689945 non-null float64\n",
      "commentnums_pre2                    689945 non-null float64\n",
      "cancelrate_pre                      689945 non-null float64\n",
      "novoters_pre2                       689945 non-null float64\n",
      "novoters_pre                        689945 non-null float64\n",
      "ctrip_profits                       689945 non-null float64\n",
      "deltaprice_pre2_t1                  689945 non-null float64\n",
      "lowestprice_pre                     689945 non-null float64\n",
      "uv_pre                              689945 non-null float64\n",
      "uv_pre2                             689945 non-null float64\n",
      "lowestprice_pre2                    689945 non-null float64\n",
      "lasthtlordergap                     689945 non-null float64\n",
      "businessrate_pre2                   689945 non-null float64\n",
      "cityuvs                             689945 non-null float64\n",
      "cityorders                          689945 non-null float64\n",
      "lastpvgap                           689945 non-null float64\n",
      "cr                                  689945 non-null float64\n",
      "sid                                 689945 non-null float64\n",
      "visitnum_oneyear                    689945 non-null float64\n",
      "h                                   689945 non-null float64\n",
      "Reservation                         689945 non-null float64\n",
      "arrival_week                        689945 non-null float64\n",
      "d_week                              689945 non-null float64\n",
      "historyvisit_7ordernum_null         689945 non-null float64\n",
      "dtypes: float64(51)\n",
      "memory usage: 268.5 MB\n"
     ]
    }
   ],
   "source": [
    "data_x=pd.DataFrame(data1,columns=features) \n",
    "data_x.info()"
   ]
  },
  {
   "cell_type": "code",
   "execution_count": null,
   "metadata": {
    "collapsed": true
   },
   "outputs": [],
   "source": [
    "\n"
   ]
  },
  {
   "cell_type": "markdown",
   "metadata": {},
   "source": [
    "# 聚类"
   ]
  },
  {
   "cell_type": "code",
   "execution_count": 16,
   "metadata": {
    "scrolled": true
   },
   "outputs": [
    {
     "name": "stderr",
     "output_type": "stream",
     "text": [
      "E:\\python\\lib\\site-packages\\sklearn\\preprocessing\\data.py:625: DataConversionWarning: Data with input dtype int64, float64 were all converted to float64 by StandardScaler.\n",
      "  return self.partial_fit(X, y)\n",
      "E:\\python\\lib\\site-packages\\sklearn\\base.py:462: DataConversionWarning: Data with input dtype int64, float64 were all converted to float64 by StandardScaler.\n",
      "  return self.fit(X, **fit_params).transform(X)\n"
     ]
    }
   ],
   "source": [
    "# 提取特征\n",
    "data1 = data_raw[['Reservation','historyvisit_totalordernum','historyvisit_7ordernum','delta_price1','ctrip_profits','ordercanncelednum','ordernum_oneyear','lasthtlordergap','consuming_capacity','price_sensitive','starprefer','lastpvgap','visitnum_oneyear','landhalfhours']]\n",
    "#第二种聚类指标'Reservation','historyvisit_totalordernum','historyvisit_7ordernum','delta_price1','ordercanceledprecent','ordercanncelednum','historyvisit_avghotelnum',\n",
    "from sklearn.preprocessing import StandardScaler\n",
    "scaler = StandardScaler()\n",
    "data2 = scaler.fit_transform(data1)\n",
    "data2 = pd.DataFrame(data2,columns=data1.columns)"
   ]
  },
  {
   "cell_type": "code",
   "execution_count": 17,
   "metadata": {
    "scrolled": true
   },
   "outputs": [
    {
     "data": {
      "text/html": [
       "<div>\n",
       "<style scoped>\n",
       "    .dataframe tbody tr th:only-of-type {\n",
       "        vertical-align: middle;\n",
       "    }\n",
       "\n",
       "    .dataframe tbody tr th {\n",
       "        vertical-align: top;\n",
       "    }\n",
       "\n",
       "    .dataframe thead th {\n",
       "        text-align: right;\n",
       "    }\n",
       "</style>\n",
       "<table border=\"1\" class=\"dataframe\">\n",
       "  <thead>\n",
       "    <tr style=\"text-align: right;\">\n",
       "      <th></th>\n",
       "      <th>Reservation</th>\n",
       "      <th>historyvisit_totalordernum</th>\n",
       "      <th>historyvisit_7ordernum</th>\n",
       "      <th>delta_price1</th>\n",
       "      <th>ctrip_profits</th>\n",
       "      <th>ordercanncelednum</th>\n",
       "      <th>ordernum_oneyear</th>\n",
       "      <th>lasthtlordergap</th>\n",
       "      <th>consuming_capacity</th>\n",
       "      <th>price_sensitive</th>\n",
       "      <th>starprefer</th>\n",
       "      <th>lastpvgap</th>\n",
       "      <th>visitnum_oneyear</th>\n",
       "      <th>landhalfhours</th>\n",
       "    </tr>\n",
       "    <tr>\n",
       "      <th>labels</th>\n",
       "      <th></th>\n",
       "      <th></th>\n",
       "      <th></th>\n",
       "      <th></th>\n",
       "      <th></th>\n",
       "      <th></th>\n",
       "      <th></th>\n",
       "      <th></th>\n",
       "      <th></th>\n",
       "      <th></th>\n",
       "      <th></th>\n",
       "      <th></th>\n",
       "      <th></th>\n",
       "      <th></th>\n",
       "    </tr>\n",
       "  </thead>\n",
       "  <tbody>\n",
       "    <tr>\n",
       "      <th>0</th>\n",
       "      <td>0.170102</td>\n",
       "      <td>-0.246923</td>\n",
       "      <td>-0.192188</td>\n",
       "      <td>0.175752</td>\n",
       "      <td>-0.147450</td>\n",
       "      <td>-0.110193</td>\n",
       "      <td>-0.265352</td>\n",
       "      <td>2.144839</td>\n",
       "      <td>0.305582</td>\n",
       "      <td>0.145353</td>\n",
       "      <td>0.473118</td>\n",
       "      <td>0.611261</td>\n",
       "      <td>-0.038698</td>\n",
       "      <td>-0.045926</td>\n",
       "    </tr>\n",
       "    <tr>\n",
       "      <th>1</th>\n",
       "      <td>-0.038805</td>\n",
       "      <td>0.103050</td>\n",
       "      <td>0.079061</td>\n",
       "      <td>0.398791</td>\n",
       "      <td>0.127548</td>\n",
       "      <td>-0.012326</td>\n",
       "      <td>0.138807</td>\n",
       "      <td>-0.156914</td>\n",
       "      <td>0.661616</td>\n",
       "      <td>0.516185</td>\n",
       "      <td>0.755941</td>\n",
       "      <td>-0.165391</td>\n",
       "      <td>0.024994</td>\n",
       "      <td>0.034481</td>\n",
       "    </tr>\n",
       "    <tr>\n",
       "      <th>2</th>\n",
       "      <td>-0.286291</td>\n",
       "      <td>3.099519</td>\n",
       "      <td>1.055603</td>\n",
       "      <td>0.377643</td>\n",
       "      <td>1.924505</td>\n",
       "      <td>2.645655</td>\n",
       "      <td>3.157296</td>\n",
       "      <td>-0.404527</td>\n",
       "      <td>0.695841</td>\n",
       "      <td>0.262998</td>\n",
       "      <td>0.821039</td>\n",
       "      <td>-0.301308</td>\n",
       "      <td>0.059306</td>\n",
       "      <td>0.064461</td>\n",
       "    </tr>\n",
       "    <tr>\n",
       "      <th>3</th>\n",
       "      <td>0.019139</td>\n",
       "      <td>-0.422937</td>\n",
       "      <td>-0.152811</td>\n",
       "      <td>-0.524064</td>\n",
       "      <td>-0.330782</td>\n",
       "      <td>-0.291027</td>\n",
       "      <td>-0.461311</td>\n",
       "      <td>-0.518538</td>\n",
       "      <td>-0.883191</td>\n",
       "      <td>-0.621068</td>\n",
       "      <td>-1.054894</td>\n",
       "      <td>0.001861</td>\n",
       "      <td>-0.020431</td>\n",
       "      <td>-0.028499</td>\n",
       "    </tr>\n",
       "  </tbody>\n",
       "</table>\n",
       "</div>"
      ],
      "text/plain": [
       "        Reservation  historyvisit_totalordernum  historyvisit_7ordernum  \\\n",
       "labels                                                                    \n",
       "0          0.170102                   -0.246923               -0.192188   \n",
       "1         -0.038805                    0.103050                0.079061   \n",
       "2         -0.286291                    3.099519                1.055603   \n",
       "3          0.019139                   -0.422937               -0.152811   \n",
       "\n",
       "        delta_price1  ctrip_profits  ordercanncelednum  ordernum_oneyear  \\\n",
       "labels                                                                     \n",
       "0           0.175752      -0.147450          -0.110193         -0.265352   \n",
       "1           0.398791       0.127548          -0.012326          0.138807   \n",
       "2           0.377643       1.924505           2.645655          3.157296   \n",
       "3          -0.524064      -0.330782          -0.291027         -0.461311   \n",
       "\n",
       "        lasthtlordergap  consuming_capacity  price_sensitive  starprefer  \\\n",
       "labels                                                                     \n",
       "0              2.144839            0.305582         0.145353    0.473118   \n",
       "1             -0.156914            0.661616         0.516185    0.755941   \n",
       "2             -0.404527            0.695841         0.262998    0.821039   \n",
       "3             -0.518538           -0.883191        -0.621068   -1.054894   \n",
       "\n",
       "        lastpvgap  visitnum_oneyear  landhalfhours  \n",
       "labels                                              \n",
       "0        0.611261         -0.038698      -0.045926  \n",
       "1       -0.165391          0.024994       0.034481  \n",
       "2       -0.301308          0.059306       0.064461  \n",
       "3        0.001861         -0.020431      -0.028499  "
      ]
     },
     "execution_count": 17,
     "metadata": {},
     "output_type": "execute_result"
    }
   ],
   "source": [
    "# 聚类\n",
    "from sklearn.cluster import KMeans\n",
    "Kmodel=KMeans(4)\n",
    "Kmodel.fit(data2)\n",
    "lable2 = Kmodel.predict(data2)\n",
    "data2['labels'] = lable2\n",
    "\n",
    "data2.groupby('labels').mean() #查看分布情况"
   ]
  },
  {
   "cell_type": "code",
   "execution_count": 18,
   "metadata": {},
   "outputs": [
    {
     "data": {
      "image/png": "[encoded data removed]",
      "text/plain": [
       "<Figure size 432x648 with 1 Axes>"
      ]
     },
     "metadata": {},
     "output_type": "display_data"
    }
   ],
   "source": [
    "# 画饼图\n",
    "from matplotlib import pyplot as plt \n",
    "from pylab import mpl\n",
    "mpl.rcParams['font.sans-serif'] = ['SimHei']\n",
    "\n",
    "plt.figure(figsize=(6,9))    #调节图形大小，宽，高\n",
    "labels = [u'新用户',u'低价值用户',u'追求高品质用户',u'高价值用户']    #定义饼状图的标签，标签是列表\n",
    "sizes = data2.groupby('labels')['labels'].count()    #每个标签占多大，会自动去算百分比\n",
    "colors = ['red','yellowgreen','lightskyblue','blue']\n",
    "explode = (0.05,0,0,0)    #将某部分爆炸出来， 使用括号，将第一块分割出来，数值的大小是分割出来的与其他两块的间隙\n",
    "patches,l_text,p_text = plt.pie(sizes,explode=explode,labels=labels,\n",
    "                                labeldistance = 1.1,autopct = '%3.1f%%',shadow = False,\n",
    "                                startangle = 90,pctdistance = 0.6)\n",
    "for t in l_text:\n",
    "    t.set_size=(30)\n",
    "for t in p_text:\n",
    "    t.set_size=(20)\n",
    "# 设置x，y轴刻度一致，这样饼图才能是圆的\n",
    "plt.axis('equal')\n",
    "plt.legend()\n",
    "plt.show()"
   ]
  },
  {
   "cell_type": "code",
   "execution_count": 19,
   "metadata": {
    "collapsed": true
   },
   "outputs": [],
   "source": [
    "#过滤无用的维度\n",
    "filter_feature = ['sampleid','d','arrival','label'] #,'commentnums','commentnums_pre','commentnums_pre2','decisionhabit_user','historyvisit_avghotelnum','novoters_pre2','novoters','novoters_pre','deltaprice_pre2_t1','customereval_pre2','cancelrate','sid','ordernum_oneyear'\n",
    "#,'commentnums','commentnums','commentnums_pre','commentnums_pre2','decisionhabit_user','historyvisit_avghotelnum','novoters_pre2','novoters','novoters_pre','deltaprice_pre2_t1','customereval_pre2','d_week','arrival_week','cancelrate','sid',\n",
    "# 过滤无用的维度#,'visitnum_oneyear','cityorders','cityorders','lastpvgap','lowestprice_pre','commentnums_pre','novoters_pre'\n",
    "#,'historyvisit_avghotelnum','ordernum_oneyear','novoters','novoters_pre','novoters_pre2','delta_price2','businessrate_pre2','cityorders','commentnums','commentnums_pre','commentnums_pre2','decisionhabit_user','deltaprice_pre2_t1','customereval_pre2','d_week','arrival_week','cancelrate','sid'\n",
    "\n",
    "features = []\n",
    "for x in data_raw.columns: # 取特征\n",
    "    if x not in filter_feature:\n",
    "        features.append(x)"
   ]
  },
  {
   "cell_type": "code",
   "execution_count": 20,
   "metadata": {
    "collapsed": true
   },
   "outputs": [],
   "source": [
    "#建立X，Y变量\n",
    "data_x=data_raw[features]\n",
    "data_y=data_raw.label"
   ]
  },
  {
   "cell_type": "code",
   "execution_count": 21,
   "metadata": {
    "scrolled": true
   },
   "outputs": [
    {
     "name": "stderr",
     "output_type": "stream",
     "text": [
      "E:\\python\\lib\\site-packages\\ipykernel_launcher.py:3: SettingWithCopyWarning: \n",
      "A value is trying to be set on a copy of a slice from a DataFrame.\n",
      "Try using .loc[row_indexer,col_indexer] = value instead\n",
      "\n",
      "See the caveats in the documentation: http://pandas.pydata.org/pandas-docs/stable/indexing.html#indexing-view-versus-copy\n",
      "  This is separate from the ipykernel package so we can avoid doing imports until\n",
      "E:\\python\\lib\\site-packages\\sklearn\\preprocessing\\data.py:625: DataConversionWarning: Data with input dtype int32, int64, float64 were all converted to float64 by StandardScaler.\n",
      "  return self.partial_fit(X, y)\n",
      "E:\\python\\lib\\site-packages\\ipykernel_launcher.py:7: DataConversionWarning: Data with input dtype int32, int64, float64 were all converted to float64 by StandardScaler.\n",
      "  import sys\n"
     ]
    }
   ],
   "source": [
    "#标准化\n",
    "from sklearn.preprocessing import StandardScaler\n",
    "data_x['cus_label']=data2['labels']\n",
    "x=data_x\n",
    "scaler = StandardScaler()\n",
    "scaler.fit(x)\n",
    "x= scaler.transform(data_x)\n",
    "y=data_y "
   ]
  },
  {
   "cell_type": "code",
   "execution_count": 22,
   "metadata": {},
   "outputs": [
    {
     "data": {
      "text/html": [
       "<div>\n",
       "<style scoped>\n",
       "    .dataframe tbody tr th:only-of-type {\n",
       "        vertical-align: middle;\n",
       "    }\n",
       "\n",
       "    .dataframe tbody tr th {\n",
       "        vertical-align: top;\n",
       "    }\n",
       "\n",
       "    .dataframe thead th {\n",
       "        text-align: right;\n",
       "    }\n",
       "</style>\n",
       "<table border=\"1\" class=\"dataframe\">\n",
       "  <thead>\n",
       "    <tr style=\"text-align: right;\">\n",
       "      <th></th>\n",
       "      <th>0</th>\n",
       "    </tr>\n",
       "  </thead>\n",
       "  <tbody>\n",
       "    <tr>\n",
       "      <th>commentnums</th>\n",
       "      <td>0.060286</td>\n",
       "    </tr>\n",
       "    <tr>\n",
       "      <th>commentnums_pre</th>\n",
       "      <td>0.099400</td>\n",
       "    </tr>\n",
       "    <tr>\n",
       "      <th>commentnums_pre2</th>\n",
       "      <td>0.224231</td>\n",
       "    </tr>\n",
       "    <tr>\n",
       "      <th>decisionhabit_user</th>\n",
       "      <td>0.817585</td>\n",
       "    </tr>\n",
       "    <tr>\n",
       "      <th>historyvisit_avghotelnum</th>\n",
       "      <td>3.863996</td>\n",
       "    </tr>\n",
       "    <tr>\n",
       "      <th>novoters_pre2</th>\n",
       "      <td>7.151279</td>\n",
       "    </tr>\n",
       "    <tr>\n",
       "      <th>novoters</th>\n",
       "      <td>8.248222</td>\n",
       "    </tr>\n",
       "    <tr>\n",
       "      <th>novoters_pre</th>\n",
       "      <td>9.651918</td>\n",
       "    </tr>\n",
       "    <tr>\n",
       "      <th>deltaprice_pre2_t1</th>\n",
       "      <td>42.793554</td>\n",
       "    </tr>\n",
       "    <tr>\n",
       "      <th>customereval_pre2</th>\n",
       "      <td>47.658903</td>\n",
       "    </tr>\n",
       "    <tr>\n",
       "      <th>d_week</th>\n",
       "      <td>58.660809</td>\n",
       "    </tr>\n",
       "    <tr>\n",
       "      <th>arrival_week</th>\n",
       "      <td>58.660809</td>\n",
       "    </tr>\n",
       "    <tr>\n",
       "      <th>cancelrate</th>\n",
       "      <td>81.108853</td>\n",
       "    </tr>\n",
       "    <tr>\n",
       "      <th>sid</th>\n",
       "      <td>90.583978</td>\n",
       "    </tr>\n",
       "    <tr>\n",
       "      <th>lastpvgap</th>\n",
       "      <td>100.625427</td>\n",
       "    </tr>\n",
       "    <tr>\n",
       "      <th>historyvisit_visit_detailpagenum</th>\n",
       "      <td>167.966785</td>\n",
       "    </tr>\n",
       "    <tr>\n",
       "      <th>cancelrate_pre</th>\n",
       "      <td>231.840106</td>\n",
       "    </tr>\n",
       "    <tr>\n",
       "      <th>visitnum_oneyear</th>\n",
       "      <td>474.689479</td>\n",
       "    </tr>\n",
       "    <tr>\n",
       "      <th>lasthtlordergap</th>\n",
       "      <td>617.391646</td>\n",
       "    </tr>\n",
       "    <tr>\n",
       "      <th>landhalfhours</th>\n",
       "      <td>654.860230</td>\n",
       "    </tr>\n",
       "    <tr>\n",
       "      <th>lowestprice_pre</th>\n",
       "      <td>950.893196</td>\n",
       "    </tr>\n",
       "    <tr>\n",
       "      <th>lowestprice</th>\n",
       "      <td>1209.396046</td>\n",
       "    </tr>\n",
       "    <tr>\n",
       "      <th>firstorder_bu</th>\n",
       "      <td>1230.595039</td>\n",
       "    </tr>\n",
       "    <tr>\n",
       "      <th>delta_price2</th>\n",
       "      <td>1419.793768</td>\n",
       "    </tr>\n",
       "    <tr>\n",
       "      <th>delta_price1</th>\n",
       "      <td>1445.605405</td>\n",
       "    </tr>\n",
       "    <tr>\n",
       "      <th>lowestprice_pre2</th>\n",
       "      <td>1523.496914</td>\n",
       "    </tr>\n",
       "    <tr>\n",
       "      <th>avgprice</th>\n",
       "      <td>1530.402433</td>\n",
       "    </tr>\n",
       "    <tr>\n",
       "      <th>price_sensitive</th>\n",
       "      <td>1796.446895</td>\n",
       "    </tr>\n",
       "    <tr>\n",
       "      <th>hoteluv</th>\n",
       "      <td>1869.458204</td>\n",
       "    </tr>\n",
       "    <tr>\n",
       "      <th>uv_pre</th>\n",
       "      <td>1911.065683</td>\n",
       "    </tr>\n",
       "    <tr>\n",
       "      <th>ordercanceledprecent</th>\n",
       "      <td>2069.285673</td>\n",
       "    </tr>\n",
       "    <tr>\n",
       "      <th>cus_label</th>\n",
       "      <td>2322.034184</td>\n",
       "    </tr>\n",
       "    <tr>\n",
       "      <th>uv_pre2</th>\n",
       "      <td>2346.919023</td>\n",
       "    </tr>\n",
       "    <tr>\n",
       "      <th>consuming_capacity</th>\n",
       "      <td>2622.300509</td>\n",
       "    </tr>\n",
       "    <tr>\n",
       "      <th>h</th>\n",
       "      <td>4193.757111</td>\n",
       "    </tr>\n",
       "    <tr>\n",
       "      <th>cr</th>\n",
       "      <td>4195.501241</td>\n",
       "    </tr>\n",
       "    <tr>\n",
       "      <th>ctrip_profits</th>\n",
       "      <td>4527.466262</td>\n",
       "    </tr>\n",
       "    <tr>\n",
       "      <th>customer_value_profit</th>\n",
       "      <td>5093.176222</td>\n",
       "    </tr>\n",
       "    <tr>\n",
       "      <th>hotelcr</th>\n",
       "      <td>5871.801404</td>\n",
       "    </tr>\n",
       "    <tr>\n",
       "      <th>cr_pre</th>\n",
       "      <td>5976.925672</td>\n",
       "    </tr>\n",
       "    <tr>\n",
       "      <th>ordercanncelednum</th>\n",
       "      <td>6638.080779</td>\n",
       "    </tr>\n",
       "    <tr>\n",
       "      <th>starprefer</th>\n",
       "      <td>6790.952463</td>\n",
       "    </tr>\n",
       "    <tr>\n",
       "      <th>cityuvs</th>\n",
       "      <td>7197.970895</td>\n",
       "    </tr>\n",
       "    <tr>\n",
       "      <th>cityorders</th>\n",
       "      <td>7552.077502</td>\n",
       "    </tr>\n",
       "    <tr>\n",
       "      <th>iforderpv_24h</th>\n",
       "      <td>8498.573681</td>\n",
       "    </tr>\n",
       "    <tr>\n",
       "      <th>businessrate_pre</th>\n",
       "      <td>9205.702455</td>\n",
       "    </tr>\n",
       "    <tr>\n",
       "      <th>historyvisit_7ordernum</th>\n",
       "      <td>10901.937678</td>\n",
       "    </tr>\n",
       "    <tr>\n",
       "      <th>businessrate_pre2</th>\n",
       "      <td>12085.283963</td>\n",
       "    </tr>\n",
       "    <tr>\n",
       "      <th>historyvisit_totalordernum</th>\n",
       "      <td>15230.060653</td>\n",
       "    </tr>\n",
       "    <tr>\n",
       "      <th>Reservation</th>\n",
       "      <td>16704.500834</td>\n",
       "    </tr>\n",
       "    <tr>\n",
       "      <th>historyvisit_7ordernum_null</th>\n",
       "      <td>16935.415603</td>\n",
       "    </tr>\n",
       "    <tr>\n",
       "      <th>ordernum_oneyear</th>\n",
       "      <td>17003.493542</td>\n",
       "    </tr>\n",
       "  </tbody>\n",
       "</table>\n",
       "</div>"
      ],
      "text/plain": [
       "                                             0\n",
       "commentnums                           0.060286\n",
       "commentnums_pre                       0.099400\n",
       "commentnums_pre2                      0.224231\n",
       "decisionhabit_user                    0.817585\n",
       "historyvisit_avghotelnum              3.863996\n",
       "novoters_pre2                         7.151279\n",
       "novoters                              8.248222\n",
       "novoters_pre                          9.651918\n",
       "deltaprice_pre2_t1                   42.793554\n",
       "customereval_pre2                    47.658903\n",
       "d_week                               58.660809\n",
       "arrival_week                         58.660809\n",
       "cancelrate                           81.108853\n",
       "sid                                  90.583978\n",
       "lastpvgap                           100.625427\n",
       "historyvisit_visit_detailpagenum    167.966785\n",
       "cancelrate_pre                      231.840106\n",
       "visitnum_oneyear                    474.689479\n",
       "lasthtlordergap                     617.391646\n",
       "landhalfhours                       654.860230\n",
       "lowestprice_pre                     950.893196\n",
       "lowestprice                        1209.396046\n",
       "firstorder_bu                      1230.595039\n",
       "delta_price2                       1419.793768\n",
       "delta_price1                       1445.605405\n",
       "lowestprice_pre2                   1523.496914\n",
       "avgprice                           1530.402433\n",
       "price_sensitive                    1796.446895\n",
       "hoteluv                            1869.458204\n",
       "uv_pre                             1911.065683\n",
       "ordercanceledprecent               2069.285673\n",
       "cus_label                          2322.034184\n",
       "uv_pre2                            2346.919023\n",
       "consuming_capacity                 2622.300509\n",
       "h                                  4193.757111\n",
       "cr                                 4195.501241\n",
       "ctrip_profits                      4527.466262\n",
       "customer_value_profit              5093.176222\n",
       "hotelcr                            5871.801404\n",
       "cr_pre                             5976.925672\n",
       "ordercanncelednum                  6638.080779\n",
       "starprefer                         6790.952463\n",
       "cityuvs                            7197.970895\n",
       "cityorders                         7552.077502\n",
       "iforderpv_24h                      8498.573681\n",
       "businessrate_pre                   9205.702455\n",
       "historyvisit_7ordernum            10901.937678\n",
       "businessrate_pre2                 12085.283963\n",
       "historyvisit_totalordernum        15230.060653\n",
       "Reservation                       16704.500834\n",
       "historyvisit_7ordernum_null       16935.415603\n",
       "ordernum_oneyear                  17003.493542"
      ]
     },
     "execution_count": 22,
     "metadata": {},
     "output_type": "execute_result"
    }
   ],
   "source": [
    "from sklearn.feature_selection import VarianceThreshold\n",
    "#SelectKBest(score_func,k)\n",
    "#其中 score_func 传入用于特征评分的统计检验方法，默认是 f_classif，它计算的是单变量与训练 target 间的方差分析F值（Anova F-value）；k 传入用户想要根据评分从高到低留下的变量的个数，默认是10。\n",
    "#注意，当选用默认的 f_classif 方法时，只适用于分类任务，即目标变量为分类变量（因为只有目标变量是分类变量，才好进行方差分析）。\n",
    "\n",
    "#先使用Filter法的方差分析筛选：\n",
    "\n",
    "from sklearn.feature_selection import SelectKBest, f_classif\n",
    "selector = SelectKBest(f_classif)\n",
    "a=selector.fit(x,y)\n",
    "#print(np.array(a.scores_),'\\n',a.get_support())\n",
    "pd.DataFrame(np.array(a.scores_),list(data_x.columns)).sort_values(by=0)\n"
   ]
  },
  {
   "cell_type": "code",
   "execution_count": 34,
   "metadata": {},
   "outputs": [
    {
     "name": "stderr",
     "output_type": "stream",
     "text": [
      "E:\\python\\lib\\site-packages\\sklearn\\linear_model\\logistic.py:433: FutureWarning: Default solver will be changed to 'lbfgs' in 0.22. Specify a solver to silence this warning.\n",
      "  FutureWarning)\n"
     ]
    }
   ],
   "source": [
    "from sklearn.feature_selection import RFE\n",
    "from sklearn.linear_model import LogisticRegression\n",
    "\n",
    "#递归特征消除法，返回特征选择后的数据\n",
    "#参数estimator为基模型\n",
    "#参数n_features_to_select为选择的特征个数\n",
    "a=RFE(estimator=LogisticRegression(), n_features_to_select=42).fit_transform(x,y)"
   ]
  },
  {
   "cell_type": "code",
   "execution_count": 35,
   "metadata": {},
   "outputs": [
    {
     "data": {
      "text/plain": [
       "39"
      ]
     },
     "execution_count": 35,
     "metadata": {},
     "output_type": "execute_result"
    }
   ],
   "source": [
    "len(a[1])"
   ]
  },
  {
   "cell_type": "code",
   "execution_count": 97,
   "metadata": {},
   "outputs": [
    {
     "data": {
      "text/plain": [
       "689945"
      ]
     },
     "execution_count": 97,
     "metadata": {},
     "output_type": "execute_result"
    }
   ],
   "source": []
  },
  {
   "cell_type": "code",
   "execution_count": 33,
   "metadata": {
    "collapsed": true
   },
   "outputs": [],
   "source": [
    "#导入模型，建包\n",
    "from sklearn.linear_model import LogisticRegressionCV\n",
    "from sklearn.ensemble import RandomForestClassifier\n",
    "from sklearn.svm import SVC\n",
    "\n",
    "#import xgboost as xgb\n",
    "from sklearn import metrics\n",
    "from sklearn.model_selection import train_test_split, GridSearchCV\n",
    "from sklearn.metrics import classification_report\n",
    "\n",
    "x_train,x_test,y_train,y_test = train_test_split(x,y,test_size= .2,random_state=1234)"
   ]
  },
  {
   "cell_type": "code",
   "execution_count": 58,
   "metadata": {
    "scrolled": false
   },
   "outputs": [
    {
     "name": "stderr",
     "output_type": "stream",
     "text": [
      "E:\\python\\lib\\site-packages\\sklearn\\linear_model\\logistic.py:433: FutureWarning: Default solver will be changed to 'lbfgs' in 0.22. Specify a solver to silence this warning.\n",
      "  FutureWarning)\n"
     ]
    },
    {
     "name": "stdout",
     "output_type": "stream",
     "text": [
      "[0.15255181931579925, 0.7386458340882244, 0.7013690879222418]\n"
     ]
    }
   ],
   "source": [
    "#逻辑回归模型\n",
    "lr = LogisticRegression()\n",
    "lr.fit(x_train,y_train)\n",
    "y_lr = lr.predict_proba(x_test)[:,1]\n",
    "fpr_lr,tpr_lr,threshold_lr = metrics.roc_curve(y_test,y_lr)\n",
    "auc_lr = metrics.auc(fpr_lr,tpr_lr)\n",
    "score_lr = metrics.accuracy_score(y_test,lr.predict(x_test))\n",
    "recall_lr=metrics.recall_score(y_test,lr.predict(x_test))\n",
    "print([recall_lr,score_lr,auc_lr])\n"
   ]
  },
  {
   "cell_type": "code",
   "execution_count": 59,
   "metadata": {},
   "outputs": [
    {
     "name": "stdout",
     "output_type": "stream",
     "text": [
      "[0.8006051116006263, 0.8844473110175449, 0.8584084780266183]\n"
     ]
    }
   ],
   "source": [
    "#决策树模型\n",
    "from sklearn import tree\n",
    "dtc = tree.DecisionTreeClassifier()\n",
    "dtc.fit(x_train,y_train)\n",
    "y_dtc = dtc.predict_proba(x_test)[:,1]\n",
    "fpr_dtc,tpr_dtc,threshod_dtc= metrics.roc_curve(y_test,y_dtc)\n",
    "recall_dtc=metrics.recall_score(y_test,dtc.predict(x_test))\n",
    "score_dtc=metrics.accuracy_score(y_test,dtc.predict(x_test))\n",
    "auc_dtc = metrics.auc(fpr_dtc,tpr_dtc)\n",
    "print([recall_dtc,score_dtc,auc_dtc])"
   ]
  },
  {
   "cell_type": "code",
   "execution_count": 60,
   "metadata": {},
   "outputs": [
    {
     "name": "stderr",
     "output_type": "stream",
     "text": [
      "E:\\python\\lib\\site-packages\\sklearn\\ensemble\\forest.py:246: FutureWarning: The default value of n_estimators will change from 10 in version 0.20 to 100 in 0.22.\n",
      "  \"10 in version 0.20 to 100 in 0.22.\", FutureWarning)\n"
     ]
    },
    {
     "name": "stdout",
     "output_type": "stream",
     "text": [
      "[0.7040791953077311, 0.9073839219068187, 0.9523956201022723]\n"
     ]
    }
   ],
   "source": [
    "#随机森林\n",
    "rfc = RandomForestClassifier()\n",
    "rfc.fit(x_train,y_train)\n",
    "y_rfc = rfc.predict_proba(x_test)[:,1]\n",
    "fpr_rfc,tpr_rfc,threshold_rfc = metrics.roc_curve(y_test,y_rfc)\n",
    "auc_rfc = metrics.auc(fpr_rfc,tpr_rfc)\n",
    "score_rfc = metrics.accuracy_score(y_test,rfc.predict(x_test))\n",
    "recall_rfc=metrics.recall_score(y_test,rfc.predict(x_test))\n",
    "print([recall_rfc,score_rfc,auc_rfc])\n"
   ]
  },
  {
   "cell_type": "code",
   "execution_count": null,
   "metadata": {
    "collapsed": true
   },
   "outputs": [],
   "source": [
    "importance = rfc.feature_importances_\n",
    "features = data_x.columns\n",
    "importance=pd.DataFrame(importance)\n",
    "importance.index=features"
   ]
  },
  {
   "cell_type": "code",
   "execution_count": null,
   "metadata": {},
   "outputs": [
    {
     "data": {
      "text/html": [
       "<div>\n",
       "<style scoped>\n",
       "    .dataframe tbody tr th:only-of-type {\n",
       "        vertical-align: middle;\n",
       "    }\n",
       "\n",
       "    .dataframe tbody tr th {\n",
       "        vertical-align: top;\n",
       "    }\n",
       "\n",
       "    .dataframe thead th {\n",
       "        text-align: right;\n",
       "    }\n",
       "</style>\n",
       "<table border=\"1\" class=\"dataframe\">\n",
       "  <thead>\n",
       "    <tr style=\"text-align: right;\">\n",
       "      <th></th>\n",
       "      <th>0</th>\n",
       "    </tr>\n",
       "  </thead>\n",
       "  <tbody>\n",
       "    <tr>\n",
       "      <th>cus_label</th>\n",
       "      <td>0.003550</td>\n",
       "    </tr>\n",
       "    <tr>\n",
       "      <th>d_week</th>\n",
       "      <td>0.003867</td>\n",
       "    </tr>\n",
       "    <tr>\n",
       "      <th>arrival_week</th>\n",
       "      <td>0.003894</td>\n",
       "    </tr>\n",
       "    <tr>\n",
       "      <th>historyvisit_7ordernum_null</th>\n",
       "      <td>0.005038</td>\n",
       "    </tr>\n",
       "    <tr>\n",
       "      <th>historyvisit_7ordernum</th>\n",
       "      <td>0.009784</td>\n",
       "    </tr>\n",
       "    <tr>\n",
       "      <th>firstorder_bu</th>\n",
       "      <td>0.009930</td>\n",
       "    </tr>\n",
       "    <tr>\n",
       "      <th>iforderpv_24h</th>\n",
       "      <td>0.011006</td>\n",
       "    </tr>\n",
       "    <tr>\n",
       "      <th>hotelcr</th>\n",
       "      <td>0.012553</td>\n",
       "    </tr>\n",
       "    <tr>\n",
       "      <th>decisionhabit_user</th>\n",
       "      <td>0.012755</td>\n",
       "    </tr>\n",
       "    <tr>\n",
       "      <th>delta_price2</th>\n",
       "      <td>0.013209</td>\n",
       "    </tr>\n",
       "    <tr>\n",
       "      <th>commentnums</th>\n",
       "      <td>0.013219</td>\n",
       "    </tr>\n",
       "    <tr>\n",
       "      <th>ordercanceledprecent</th>\n",
       "      <td>0.013641</td>\n",
       "    </tr>\n",
       "    <tr>\n",
       "      <th>landhalfhours</th>\n",
       "      <td>0.013944</td>\n",
       "    </tr>\n",
       "    <tr>\n",
       "      <th>novoters</th>\n",
       "      <td>0.014254</td>\n",
       "    </tr>\n",
       "    <tr>\n",
       "      <th>delta_price1</th>\n",
       "      <td>0.014665</td>\n",
       "    </tr>\n",
       "    <tr>\n",
       "      <th>ordercanncelednum</th>\n",
       "      <td>0.015077</td>\n",
       "    </tr>\n",
       "    <tr>\n",
       "      <th>cancelrate</th>\n",
       "      <td>0.015388</td>\n",
       "    </tr>\n",
       "    <tr>\n",
       "      <th>hoteluv</th>\n",
       "      <td>0.015914</td>\n",
       "    </tr>\n",
       "    <tr>\n",
       "      <th>lowestprice</th>\n",
       "      <td>0.016408</td>\n",
       "    </tr>\n",
       "    <tr>\n",
       "      <th>historyvisit_totalordernum</th>\n",
       "      <td>0.016668</td>\n",
       "    </tr>\n",
       "    <tr>\n",
       "      <th>consuming_capacity</th>\n",
       "      <td>0.017365</td>\n",
       "    </tr>\n",
       "    <tr>\n",
       "      <th>historyvisit_visit_detailpagenum</th>\n",
       "      <td>0.017412</td>\n",
       "    </tr>\n",
       "    <tr>\n",
       "      <th>starprefer</th>\n",
       "      <td>0.017780</td>\n",
       "    </tr>\n",
       "    <tr>\n",
       "      <th>historyvisit_avghotelnum</th>\n",
       "      <td>0.018020</td>\n",
       "    </tr>\n",
       "    <tr>\n",
       "      <th>ordernum_oneyear</th>\n",
       "      <td>0.018313</td>\n",
       "    </tr>\n",
       "    <tr>\n",
       "      <th>businessrate_pre</th>\n",
       "      <td>0.018333</td>\n",
       "    </tr>\n",
       "    <tr>\n",
       "      <th>price_sensitive</th>\n",
       "      <td>0.018749</td>\n",
       "    </tr>\n",
       "    <tr>\n",
       "      <th>deltaprice_pre2_t1</th>\n",
       "      <td>0.019602</td>\n",
       "    </tr>\n",
       "    <tr>\n",
       "      <th>customereval_pre2</th>\n",
       "      <td>0.019686</td>\n",
       "    </tr>\n",
       "    <tr>\n",
       "      <th>cr_pre</th>\n",
       "      <td>0.019805</td>\n",
       "    </tr>\n",
       "    <tr>\n",
       "      <th>avgprice</th>\n",
       "      <td>0.020001</td>\n",
       "    </tr>\n",
       "    <tr>\n",
       "      <th>commentnums_pre</th>\n",
       "      <td>0.020118</td>\n",
       "    </tr>\n",
       "    <tr>\n",
       "      <th>commentnums_pre2</th>\n",
       "      <td>0.020698</td>\n",
       "    </tr>\n",
       "    <tr>\n",
       "      <th>customer_value_profit</th>\n",
       "      <td>0.021014</td>\n",
       "    </tr>\n",
       "    <tr>\n",
       "      <th>cancelrate_pre</th>\n",
       "      <td>0.021234</td>\n",
       "    </tr>\n",
       "    <tr>\n",
       "      <th>novoters_pre2</th>\n",
       "      <td>0.021473</td>\n",
       "    </tr>\n",
       "    <tr>\n",
       "      <th>ctrip_profits</th>\n",
       "      <td>0.021726</td>\n",
       "    </tr>\n",
       "    <tr>\n",
       "      <th>novoters_pre</th>\n",
       "      <td>0.022092</td>\n",
       "    </tr>\n",
       "    <tr>\n",
       "      <th>uv_pre2</th>\n",
       "      <td>0.023243</td>\n",
       "    </tr>\n",
       "    <tr>\n",
       "      <th>lowestprice_pre</th>\n",
       "      <td>0.023752</td>\n",
       "    </tr>\n",
       "    <tr>\n",
       "      <th>uv_pre</th>\n",
       "      <td>0.023791</td>\n",
       "    </tr>\n",
       "    <tr>\n",
       "      <th>lowestprice_pre2</th>\n",
       "      <td>0.024211</td>\n",
       "    </tr>\n",
       "    <tr>\n",
       "      <th>businessrate_pre2</th>\n",
       "      <td>0.024852</td>\n",
       "    </tr>\n",
       "    <tr>\n",
       "      <th>lasthtlordergap</th>\n",
       "      <td>0.026313</td>\n",
       "    </tr>\n",
       "    <tr>\n",
       "      <th>Reservation</th>\n",
       "      <td>0.029799</td>\n",
       "    </tr>\n",
       "    <tr>\n",
       "      <th>cr</th>\n",
       "      <td>0.031868</td>\n",
       "    </tr>\n",
       "    <tr>\n",
       "      <th>lastpvgap</th>\n",
       "      <td>0.032638</td>\n",
       "    </tr>\n",
       "    <tr>\n",
       "      <th>h</th>\n",
       "      <td>0.033037</td>\n",
       "    </tr>\n",
       "    <tr>\n",
       "      <th>cityuvs</th>\n",
       "      <td>0.033254</td>\n",
       "    </tr>\n",
       "    <tr>\n",
       "      <th>cityorders</th>\n",
       "      <td>0.034139</td>\n",
       "    </tr>\n",
       "    <tr>\n",
       "      <th>sid</th>\n",
       "      <td>0.034775</td>\n",
       "    </tr>\n",
       "    <tr>\n",
       "      <th>visitnum_oneyear</th>\n",
       "      <td>0.036144</td>\n",
       "    </tr>\n",
       "  </tbody>\n",
       "</table>\n",
       "</div>"
      ],
      "text/plain": [
       "                                         0\n",
       "cus_label                         0.003550\n",
       "d_week                            0.003867\n",
       "arrival_week                      0.003894\n",
       "historyvisit_7ordernum_null       0.005038\n",
       "historyvisit_7ordernum            0.009784\n",
       "firstorder_bu                     0.009930\n",
       "iforderpv_24h                     0.011006\n",
       "hotelcr                           0.012553\n",
       "decisionhabit_user                0.012755\n",
       "delta_price2                      0.013209\n",
       "commentnums                       0.013219\n",
       "ordercanceledprecent              0.013641\n",
       "landhalfhours                     0.013944\n",
       "novoters                          0.014254\n",
       "delta_price1                      0.014665\n",
       "ordercanncelednum                 0.015077\n",
       "cancelrate                        0.015388\n",
       "hoteluv                           0.015914\n",
       "lowestprice                       0.016408\n",
       "historyvisit_totalordernum        0.016668\n",
       "consuming_capacity                0.017365\n",
       "historyvisit_visit_detailpagenum  0.017412\n",
       "starprefer                        0.017780\n",
       "historyvisit_avghotelnum          0.018020\n",
       "ordernum_oneyear                  0.018313\n",
       "businessrate_pre                  0.018333\n",
       "price_sensitive                   0.018749\n",
       "deltaprice_pre2_t1                0.019602\n",
       "customereval_pre2                 0.019686\n",
       "cr_pre                            0.019805\n",
       "avgprice                          0.020001\n",
       "commentnums_pre                   0.020118\n",
       "commentnums_pre2                  0.020698\n",
       "customer_value_profit             0.021014\n",
       "cancelrate_pre                    0.021234\n",
       "novoters_pre2                     0.021473\n",
       "ctrip_profits                     0.021726\n",
       "novoters_pre                      0.022092\n",
       "uv_pre2                           0.023243\n",
       "lowestprice_pre                   0.023752\n",
       "uv_pre                            0.023791\n",
       "lowestprice_pre2                  0.024211\n",
       "businessrate_pre2                 0.024852\n",
       "lasthtlordergap                   0.026313\n",
       "Reservation                       0.029799\n",
       "cr                                0.031868\n",
       "lastpvgap                         0.032638\n",
       "h                                 0.033037\n",
       "cityuvs                           0.033254\n",
       "cityorders                        0.034139\n",
       "sid                               0.034775\n",
       "visitnum_oneyear                  0.036144"
      ]
     },
     "execution_count": 134,
     "metadata": {},
     "output_type": "execute_result"
    }
   ],
   "source": [
    "importance.sort_values(by=0)"
   ]
  },
  {
   "cell_type": "code",
   "execution_count": 61,
   "metadata": {},
   "outputs": [
    {
     "name": "stdout",
     "output_type": "stream",
     "text": [
      "[0.5287295310385095, 0.665147221880005, 0.669608405667265]\n"
     ]
    }
   ],
   "source": [
    "#朴素贝叶斯模型\n",
    "from sklearn.naive_bayes import GaussianNB\n",
    "gnb = GaussianNB()\n",
    "gnb.fit(x_train,y_train)\n",
    "y_gnb = gnb.predict_proba(x_test)[:,1]\n",
    "fpr_gnb,tpr_gnb,threshold_gnb = metrics.roc_curve(y_test,y_gnb)\n",
    "auc_gnb = metrics.auc(fpr_gnb,tpr_gnb)\n",
    "score_gnb = metrics.accuracy_score(y_test,gnb.predict(x_test))\n",
    "recall_gnb=metrics.recall_score(y_test,gnb.predict(x_test))\n",
    "print([recall_gnb,score_gnb,auc_gnb])"
   ]
  },
  {
   "cell_type": "code",
   "execution_count": 62,
   "metadata": {},
   "outputs": [
    {
     "name": "stdout",
     "output_type": "stream",
     "text": [
      "[0.24767111653706309, 0.7455376877867076, 0.7301388755448888]\n"
     ]
    }
   ],
   "source": [
    "#adaboost模型\n",
    "from sklearn.ensemble import AdaBoostClassifier\n",
    "from sklearn.tree import DecisionTreeClassifier\n",
    "bdt=AdaBoostClassifier()\n",
    "bdt.fit(x_train, y_train)\n",
    "y_bdt=bdt.predict_proba(x_test)[:,1]\n",
    "fpr_bdt,tpr_bdt,threshold_bdt=metrics.roc_curve(y_test,y_bdt)\n",
    "auc_bdt=metrics.auc(fpr_bdt,tpr_bdt)\n",
    "score_bdt=metrics.accuracy_score(y_test,bdt.predict(x_test))\n",
    "recall_bdt=metrics.recall_score(y_test,bdt.predict(x_test))\n",
    "print([recall_bdt,score_bdt,auc_bdt])"
   ]
  },
  {
   "cell_type": "code",
   "execution_count": 63,
   "metadata": {},
   "outputs": [
    {
     "name": "stdout",
     "output_type": "stream",
     "text": [
      "[0.22805806948167415, 0.7535600663821029, 0.7479830516851885]\n"
     ]
    }
   ],
   "source": [
    "#gbdt模型\n",
    "from sklearn.ensemble import GradientBoostingClassifier\n",
    "gbdt = GradientBoostingClassifier(random_state=10)\n",
    "gbdt.fit(x_train, y_train)\n",
    "y_gbdt=gbdt.predict_proba(x_test)[:,1]\n",
    "fpr_gbdt,tpr_gbdt,threshold_gbdt=metrics.roc_curve(y_test,y_gbdt)\n",
    "auc_gbdt=metrics.auc(fpr_gbdt,tpr_gbdt)\n",
    "score_gbdt=metrics.accuracy_score(y_test,gbdt.predict(x_test))\n",
    "recall_gbdt=metrics.recall_score(y_test,gbdt.predict(x_test))\n",
    "print([recall_gbdt,score_gbdt,auc_gbdt])\n"
   ]
  },
  {
   "cell_type": "code",
   "execution_count": 64,
   "metadata": {},
   "outputs": [
    {
     "name": "stdout",
     "output_type": "stream",
     "text": [
      "[0.2204410945088776, 0.7526034683924081, 0.7464324817170385]\n"
     ]
    }
   ],
   "source": [
    "#xgboost模型\n",
    "from xgboost import XGBClassifier\n",
    "\n",
    "xgb=XGBClassifier()\n",
    "xgb.fit(x_train, y_train)\n",
    "y_xgb=xgb.predict_proba(x_test)[:,1]\n",
    "fpr_xgb,tpr_xgb,threshold_xgb=metrics.roc_curve(y_test,y_xgb)\n",
    "auc_xgb=metrics.auc(fpr_xgb,tpr_xgb)\n",
    "score_xgb=metrics.accuracy_score(y_test,xgb.predict(x_test))\n",
    "recall_xgb=metrics.recall_score(y_test,xgb.predict(x_test))\n",
    "print([recall_xgb,score_xgb,auc_xgb])"
   ]
  },
  {
   "cell_type": "code",
   "execution_count": 65,
   "metadata": {},
   "outputs": [
    {
     "data": {
      "image/png": "[encoded data removed]",
      "text/plain": [
       "<Figure size 432x288 with 1 Axes>"
      ]
     },
     "metadata": {
      "needs_background": "light"
     },
     "output_type": "display_data"
    }
   ],
   "source": [
    "#ROC曲线对比\n",
    "plt.rcParams['font.sans-serif']=['SimHei']\n",
    "fig = plt.plot()\n",
    "plt.plot(fpr_rfc,tpr_rfc,label='rfc')\n",
    "#随机森林\n",
    "plt.plot(fpr_dtc,tpr_dtc,label='dtc')\n",
    "#决策树\n",
    "plt.plot(fpr_lr,tpr_lr,label='lr')\n",
    "#逻辑回归\n",
    "plt.plot(fpr_gnb,tpr_gnb,label='gnp')\n",
    "#朴素贝叶斯模型\n",
    "plt.plot(fpr_bdt,tpr_bdt,label='bdt')\n",
    "#adaboost\n",
    "plt.plot(fpr_xgb,tpr_xgb,label='xgb')\n",
    "#xgboost\n",
    "plt.plot(fpr_gbdt,tpr_gbdt,label='gbdt')\n",
    "#gbdt\n",
    "plt.legend(loc=0)\n",
    "#在合适的位置放置图例\n",
    "\n",
    "plt.xlabel('False Positive Rate')\n",
    "plt.ylabel('True Positive Rate')\n",
    "plt.title('ROC carve')\n",
    "plt.show()\n",
    "\n"
   ]
  },
  {
   "cell_type": "markdown",
   "metadata": {},
   "source": [
    "# 模型调参"
   ]
  },
  {
   "cell_type": "code",
   "execution_count": 65,
   "metadata": {
    "scrolled": true
   },
   "outputs": [
    {
     "name": "stderr",
     "output_type": "stream",
     "text": [
      "E:\\python\\lib\\site-packages\\ipykernel_launcher.py:4: DataConversionWarning: Data with input dtype int32, int64, float64 were all converted to float64 by StandardScaler.\n",
      "  after removing the cwd from sys.path.\n"
     ]
    }
   ],
   "source": [
    "\n",
    "data_sample=data_raw.sample(frac=0.01,replace=False,random_state=111)\n",
    "\n",
    "x=scaler.transform(data_sample.iloc[:,:39])\n",
    "y=data_sample['label'].values"
   ]
  },
  {
   "cell_type": "code",
   "execution_count": 69,
   "metadata": {},
   "outputs": [
    {
     "data": {
      "text/plain": [
       "6899"
      ]
     },
     "execution_count": 69,
     "metadata": {},
     "output_type": "execute_result"
    }
   ],
   "source": []
  },
  {
   "cell_type": "code",
   "execution_count": 71,
   "metadata": {},
   "outputs": [
    {
     "data": {
      "text/plain": [
       "(make_scorer(roc_auc_score, needs_threshold=True),\n",
       " {'n_estimators': 130},\n",
       " 0.7219923366892612)"
      ]
     },
     "execution_count": 71,
     "metadata": {},
     "output_type": "execute_result"
    }
   ],
   "source": [
    "#n_estimators进行网格搜索\n",
    "param_test1 = {'n_estimators':range(80,140,5)}\n",
    "gsearch1 = GridSearchCV(estimator = RandomForestClassifier(),param_grid = param_test1, scoring='roc_auc',cv=5)\n",
    "gsearch1.fit(x,y)\n",
    "gsearch1.scorer_ , gsearch1.best_params_, gsearch1.best_score_"
   ]
  },
  {
   "cell_type": "code",
   "execution_count": 74,
   "metadata": {},
   "outputs": [
    {
     "data": {
      "text/plain": [
       "(make_scorer(roc_auc_score, needs_threshold=True),\n",
       " {'max_depth': 11, 'min_samples_split': 90},\n",
       " 0.713394180430343)"
      ]
     },
     "execution_count": 74,
     "metadata": {},
     "output_type": "execute_result"
    }
   ],
   "source": [
    "#max_depth和min_samples_split\n",
    "\n",
    "\n",
    "param_test2 = {'max_depth':range(3,14,4), 'min_samples_split':range(50,201,40)}\n",
    "gsearch2 = GridSearchCV(estimator = RandomForestClassifier(n_estimators= 130, \n",
    "                                  min_samples_leaf=20,max_features='sqrt' ,oob_score=True, random_state=10),\n",
    "   param_grid = param_test2, scoring='roc_auc',iid=False, cv=5)\n",
    "gsearch2.fit(x,y)\n",
    "gsearch2.scorer_, gsearch2.best_params_, gsearch2.best_score_"
   ]
  },
  {
   "cell_type": "code",
   "execution_count": 75,
   "metadata": {},
   "outputs": [
    {
     "data": {
      "text/plain": [
       "(make_scorer(roc_auc_score, needs_threshold=True),\n",
       " {'min_samples_leaf': 10, 'min_samples_split': 80},\n",
       " 0.7140899585527308)"
      ]
     },
     "execution_count": 75,
     "metadata": {},
     "output_type": "execute_result"
    }
   ],
   "source": [
    "param_test3 = {'min_samples_split':range(80,150,20), 'min_samples_leaf':range(10,60,10)}\n",
    "gsearch3 = GridSearchCV(estimator = RandomForestClassifier(n_estimators= 130, max_depth=11,\n",
    "                                  max_features='sqrt' ,oob_score=True, random_state=10),\n",
    "   param_grid = param_test3, scoring='roc_auc',iid=False, cv=5)\n",
    "gsearch3.fit(x,y)\n",
    "gsearch3.scorer_, gsearch3.best_params_, gsearch3.best_score_"
   ]
  },
  {
   "cell_type": "code",
   "execution_count": 76,
   "metadata": {},
   "outputs": [
    {
     "data": {
      "text/plain": [
       "(make_scorer(roc_auc_score, needs_threshold=True),\n",
       " {'max_features': 7},\n",
       " 0.71289292684553)"
      ]
     },
     "execution_count": 76,
     "metadata": {},
     "output_type": "execute_result"
    }
   ],
   "source": [
    "param_test4 = {'max_features':range(3,11,4)}\n",
    "gsearch4 = GridSearchCV(estimator = RandomForestClassifier(n_estimators= 130, max_depth=11, min_samples_split=80,\n",
    "                                  min_samples_leaf=10 ,oob_score=True, random_state=10),\n",
    "   param_grid = param_test4, scoring='roc_auc',iid=False, cv=5)\n",
    "gsearch4.fit(x,y)\n",
    "gsearch4.scorer_, gsearch4.best_params_, gsearch4.best_score_"
   ]
  },
  {
   "cell_type": "code",
   "execution_count": null,
   "metadata": {
    "collapsed": true
   },
   "outputs": [],
   "source": []
  },
  {
   "cell_type": "code",
   "execution_count": null,
   "metadata": {
    "collapsed": true
   },
   "outputs": [],
   "source": []
  },
  {
   "cell_type": "code",
   "execution_count": null,
   "metadata": {
    "collapsed": true
   },
   "outputs": [],
   "source": []
  }
 ],
 "metadata": {
  "kernelspec": {
   "display_name": "Python [default]",
   "language": "python",
   "name": "python3"
  },
  "language_info": {
   "codemirror_mode": {
    "name": "ipython",
    "version": 3
   },
   "file_extension": ".py",
   "mimetype": "text/x-python",
   "name": "python",
   "nbconvert_exporter": "python",
   "pygments_lexer": "ipython3",
   "version": "3.5.3"
  },
  "toc": {
   "base_numbering": 1,
   "nav_menu": {},
   "number_sections": true,
   "sideBar": true,
   "skip_h1_title": false,
   "title_cell": "Table of Contents",
   "title_sidebar": "Contents",
   "toc_cell": false,
   "toc_position": {},
   "toc_section_display": true,
   "toc_window_display": false
  }
 },
 "nbformat": 4,
 "nbformat_minor": 2
}
